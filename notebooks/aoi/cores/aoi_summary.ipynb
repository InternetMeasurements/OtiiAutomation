{
 "cells": [
  {
   "cell_type": "code",
   "outputs": [],
   "source": [
    "from analysis.aoi import load_data, analyse_experiment, pareto"
   ],
   "metadata": {
    "collapsed": false,
    "ExecuteTime": {
     "end_time": "2024-03-13T09:11:45.587049Z",
     "start_time": "2024-03-13T09:11:42.943315Z"
    }
   },
   "id": "cd47300a36e81e87",
   "execution_count": 1
  },
  {
   "cell_type": "code",
   "outputs": [],
   "source": [
    "data_Q1024 = load_data('../../../results/aoi/2-cores/Q1024', n_config=22)\n",
    "series_Q1024 = analyse_experiment(data_Q1024, draw_plots=False)\n",
    "\n",
    "data_Q16 = load_data('../../../results/aoi/2-cores/Q16', n_config=22)\n",
    "series_Q16 = analyse_experiment(data_Q16, draw_plots=False)\n",
    "\n",
    "data_Q1 = load_data('../../../results/aoi/2-cores/Q1', n_config=22)\n",
    "series_Q1 = analyse_experiment(data_Q1, draw_plots=False)\n",
    "\n",
    "data_Q0 = load_data('../../../results/aoi/2-cores/Q0', n_config=22)\n",
    "series_Q0 = analyse_experiment(data_Q0, draw_plots=False)"
   ],
   "metadata": {
    "collapsed": false,
    "ExecuteTime": {
     "end_time": "2024-03-13T09:13:25.127428Z",
     "start_time": "2024-03-13T09:11:45.590195Z"
    }
   },
   "id": "1a42e1758fd45847",
   "execution_count": 2
  },
  {
   "cell_type": "code",
   "outputs": [],
   "source": [
    "%matplotlib qt5\n",
    "pareto(series_Q0, series_Q1, series_Q16, series_Q1024, metric='median', dump='../../../results/aoi/aoi_cores.json')"
   ],
   "metadata": {
    "collapsed": false,
    "ExecuteTime": {
     "end_time": "2024-03-13T09:13:29.491103Z",
     "start_time": "2024-03-13T09:13:25.129434Z"
    }
   },
   "id": "1c4571b471a302eb",
   "execution_count": 3
  }
 ],
 "metadata": {
  "kernelspec": {
   "display_name": "Python 3",
   "language": "python",
   "name": "python3"
  },
  "language_info": {
   "codemirror_mode": {
    "name": "ipython",
    "version": 2
   },
   "file_extension": ".py",
   "mimetype": "text/x-python",
   "name": "python",
   "nbconvert_exporter": "python",
   "pygments_lexer": "ipython2",
   "version": "2.7.6"
  }
 },
 "nbformat": 4,
 "nbformat_minor": 5
}
