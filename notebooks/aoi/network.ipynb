{
 "cells": [
  {
   "cell_type": "code",
   "execution_count": 46,
   "id": "initial_id",
   "metadata": {
    "collapsed": true,
    "ExecuteTime": {
     "end_time": "2024-03-12T12:57:28.908603Z",
     "start_time": "2024-03-12T12:57:28.904626Z"
    }
   },
   "outputs": [],
   "source": [
    "import os\n",
    "import glob\n",
    "import json\n",
    "import polars as pl\n",
    "from analysis import get_network_status"
   ]
  },
  {
   "cell_type": "code",
   "outputs": [],
   "source": [
    "summaries = []\n",
    "summaries.extend(glob.glob('../../results/aoi/*/summary.json'))\n",
    "summaries.extend(glob.glob('../../results/aoi/*/*/summary.json'))"
   ],
   "metadata": {
    "collapsed": false,
    "ExecuteTime": {
     "end_time": "2024-03-12T12:57:28.948004Z",
     "start_time": "2024-03-12T12:57:28.917409Z"
    }
   },
   "id": "ea2603fe12c0523e",
   "execution_count": 47
  },
  {
   "cell_type": "code",
   "outputs": [],
   "source": [
    "# pl.Config.set_tbl_hide_dataframe_shape(True)\n",
    "status = []\n",
    "for summary in summaries:\n",
    "    with open(summary, 'r') as fin:\n",
    "        net_status = get_network_status(json.load(fin))\n",
    "    stats = pl.DataFrame(net_status).mean().to_dicts()[0]\n",
    "    stats['rsrq'] = stats['rsrq'] / 10\n",
    "    stats['rsrp'] = stats['rsrp'] / 10\n",
    "    stats['rssi'] = stats['rssi'] / 10\n",
    "    stats['experiment'] = '/'.join(os.path.split(summary)[0].split('\\\\'))\n",
    "    status.append(stats)\n",
    "\n",
    "df = pl.DataFrame(status)\n",
    "df.sort(by='experiment')\n",
    "\n",
    "df.write_csv('../../results/aoi/network_status.csv', float_precision=3)"
   ],
   "metadata": {
    "collapsed": false,
    "ExecuteTime": {
     "end_time": "2024-03-12T12:57:29.012062Z",
     "start_time": "2024-03-12T12:57:28.950313Z"
    }
   },
   "id": "36bca8b6792d5a2",
   "execution_count": 48
  }
 ],
 "metadata": {
  "kernelspec": {
   "display_name": "Python 3",
   "language": "python",
   "name": "python3"
  },
  "language_info": {
   "codemirror_mode": {
    "name": "ipython",
    "version": 2
   },
   "file_extension": ".py",
   "mimetype": "text/x-python",
   "name": "python",
   "nbconvert_exporter": "python",
   "pygments_lexer": "ipython2",
   "version": "2.7.6"
  }
 },
 "nbformat": 4,
 "nbformat_minor": 5
}
